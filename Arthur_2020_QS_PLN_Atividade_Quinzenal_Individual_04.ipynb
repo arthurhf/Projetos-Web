{
  "nbformat": 4,
  "nbformat_minor": 0,
  "metadata": {
    "colab": {
      "name": "Arthur 2020-QS PLN Atividade Quinzenal Individual 04",
      "provenance": [],
      "authorship_tag": "ABX9TyNAmfLlPjoaXvVxfhGrjHrz",
      "include_colab_link": true
    },
    "kernelspec": {
      "name": "python3",
      "display_name": "Python 3"
    }
  },
  "cells": [
    {
      "cell_type": "markdown",
      "metadata": {
        "id": "view-in-github",
        "colab_type": "text"
      },
      "source": [
        "<a href=\"https://colab.research.google.com/github/arthurhf/Projetos-Web/blob/master/Arthur_2020_QS_PLN_Atividade_Quinzenal_Individual_04.ipynb\" target=\"_parent\"><img src=\"https://colab.research.google.com/assets/colab-badge.svg\" alt=\"Open In Colab\"/></a>"
      ]
    },
    {
      "cell_type": "code",
      "metadata": {
        "id": "d4yryNyYnpIl"
      },
      "source": [
        "# Etapa 01\n",
        "# importe os pacotes necessários\n",
        "\n",
        "import pandas as pd\n",
        "import seaborn as sns\n"
      ],
      "execution_count": null,
      "outputs": []
    },
    {
      "cell_type": "code",
      "metadata": {
        "id": "eYAr4qxknz6b"
      },
      "source": [
        "# Etapa 02\n",
        "# Leia o conjunto de dados\n",
        "\n",
        "dados = pd.read_csv('/content/news_political_dataset.csv')\n",
        "dados.sample(5)"
      ],
      "execution_count": null,
      "outputs": []
    }
  ]
}